{
 "cells": [
  {
   "cell_type": "code",
   "execution_count": null,
   "id": "48d79417",
   "metadata": {},
   "outputs": [],
   "source": [
    "# 1.Breadth First Traversal for a Graph"
   ]
  },
  {
   "cell_type": "code",
   "execution_count": 4,
   "id": "71932b7d",
   "metadata": {},
   "outputs": [
    {
     "name": "stdout",
     "output_type": "stream",
     "text": [
      "Breadth-First Traversal (starting from vertex 2 ):\n",
      "2 0 3 1 "
     ]
    }
   ],
   "source": [
    "from collections import defaultdict, deque\n",
    "\n",
    "class Graph:\n",
    "    def __init__(self):\n",
    "        self.graph = defaultdict(list)\n",
    "    \n",
    "    def add_edge(self, u, v):\n",
    "        self.graph[u].append(v)\n",
    "    \n",
    "    def bfs(self, start_vertex):\n",
    "        visited = set()\n",
    "        queue = deque([start_vertex])\n",
    "        visited.add(start_vertex)\n",
    "        \n",
    "        while queue:\n",
    "            vertex = queue.popleft()\n",
    "            print(vertex, end=\" \")\n",
    "            \n",
    "            for neighbor in self.graph[vertex]:\n",
    "                if neighbor not in visited:\n",
    "                    queue.append(neighbor)\n",
    "                    visited.add(neighbor)\n",
    "\n",
    "# Example usage\n",
    "g = Graph()\n",
    "g.add_edge(0, 1)\n",
    "g.add_edge(0, 2)\n",
    "g.add_edge(1, 2)\n",
    "g.add_edge(2, 0)\n",
    "g.add_edge(2, 3)\n",
    "g.add_edge(3, 3)\n",
    "\n",
    "start_vertex = 2  # Change this to the desired starting vertex\n",
    "print(\"Breadth-First Traversal (starting from vertex\", start_vertex, \"):\")\n",
    "g.bfs(start_vertex)"
   ]
  },
  {
   "cell_type": "code",
   "execution_count": null,
   "id": "0645cfea",
   "metadata": {},
   "outputs": [],
   "source": [
    "# 2.Depth First Traversal for a Graph"
   ]
  },
  {
   "cell_type": "code",
   "execution_count": 5,
   "id": "685479c8",
   "metadata": {},
   "outputs": [
    {
     "name": "stdout",
     "output_type": "stream",
     "text": [
      "Depth-First Traversal (starting from vertex 2 ):\n",
      "2 0 1 3 "
     ]
    }
   ],
   "source": [
    "from collections import defaultdict\n",
    "\n",
    "class Graph:\n",
    "    def __init__(self):\n",
    "        self.graph = defaultdict(list)\n",
    "    \n",
    "    def add_edge(self, u, v):\n",
    "        self.graph[u].append(v)\n",
    "    \n",
    "    def dfs_recursive(self, vertex, visited):\n",
    "        visited.add(vertex)\n",
    "        print(vertex, end=\" \")\n",
    "        \n",
    "        for neighbor in self.graph[vertex]:\n",
    "            if neighbor not in visited:\n",
    "                self.dfs_recursive(neighbor, visited)\n",
    "    \n",
    "    def dfs(self, start_vertex):\n",
    "        visited = set()\n",
    "        self.dfs_recursive(start_vertex, visited)\n",
    "\n",
    "# Example usage\n",
    "g = Graph()\n",
    "g.add_edge(0, 1)\n",
    "g.add_edge(0, 2)\n",
    "g.add_edge(1, 2)\n",
    "g.add_edge(2, 0)\n",
    "g.add_edge(2, 3)\n",
    "g.add_edge(3, 3)\n",
    "\n",
    "start_vertex = 2  # Change this to the desired starting vertex\n",
    "print(\"Depth-First Traversal (starting from vertex\", start_vertex, \"):\")\n",
    "g.dfs(start_vertex)"
   ]
  },
  {
   "cell_type": "code",
   "execution_count": null,
   "id": "0785a16b",
   "metadata": {},
   "outputs": [],
   "source": [
    "# 3.Count the number of nodes at given level in a tree using BFS"
   ]
  },
  {
   "cell_type": "code",
   "execution_count": 7,
   "id": "17719849",
   "metadata": {},
   "outputs": [
    {
     "name": "stdout",
     "output_type": "stream",
     "text": [
      "Number of nodes at level 2: 3\n"
     ]
    }
   ],
   "source": [
    "from collections import defaultdict, deque\n",
    "\n",
    "class TreeNode:\n",
    "    def __init__(self, value):\n",
    "        self.value = value\n",
    "        self.children = []\n",
    "\n",
    "def count_nodes_at_level(root, target_level):\n",
    "    if not root:\n",
    "        return 0\n",
    "    \n",
    "    queue = deque([(root, 0)])  # Tuple: (node, level)\n",
    "    count = 0\n",
    "    \n",
    "    while queue:\n",
    "        node, level = queue.popleft()\n",
    "        \n",
    "        if level == target_level:\n",
    "            count += 1\n",
    "        \n",
    "        for child in node.children:\n",
    "            queue.append((child, level + 1))\n",
    "    \n",
    "    return count\n",
    "\n",
    "# Example usage\n",
    "# Create a sample tree\n",
    "root = TreeNode(1)\n",
    "root.children = [TreeNode(2), TreeNode(3)]\n",
    "root.children[0].children = [TreeNode(4), TreeNode(5)]\n",
    "root.children[1].children = [TreeNode(6)]\n",
    "\n",
    "target_level = 2  # Change this to the desired level\n",
    "node_count = count_nodes_at_level(root, target_level)\n",
    "print(f\"Number of nodes at level {target_level}: {node_count}\")"
   ]
  },
  {
   "cell_type": "code",
   "execution_count": null,
   "id": "539514f4",
   "metadata": {},
   "outputs": [],
   "source": [
    "# 4.Count number of trees in a forest"
   ]
  },
  {
   "cell_type": "code",
   "execution_count": 9,
   "id": "914dedb2",
   "metadata": {},
   "outputs": [
    {
     "name": "stdout",
     "output_type": "stream",
     "text": [
      "Number of trees in the forest: 2\n"
     ]
    }
   ],
   "source": [
    "from collections import defaultdict\n",
    "\n",
    "class Graph:\n",
    "    def __init__(self):\n",
    "        self.graph = defaultdict(list)\n",
    "    \n",
    "    def add_edge(self, u, v):\n",
    "        self.graph[u].append(v)\n",
    "        self.graph[v].append(u)\n",
    "    \n",
    "    def dfs(self, vertex, visited):\n",
    "        visited.add(vertex)\n",
    "        \n",
    "        for neighbor in self.graph[vertex]:\n",
    "            if neighbor not in visited:\n",
    "                self.dfs(neighbor, visited)\n",
    "\n",
    "    def count_trees(self):\n",
    "        visited = set()\n",
    "        tree_count = 0\n",
    "        \n",
    "        for vertex in self.graph:\n",
    "            if vertex not in visited:\n",
    "                self.dfs(vertex, visited)\n",
    "                tree_count += 1\n",
    "        \n",
    "        return tree_count\n",
    "\n",
    "# Example usage\n",
    "g = Graph()\n",
    "g.add_edge(0, 1)\n",
    "g.add_edge(0, 2)\n",
    "g.add_edge(3, 4)\n",
    "g.add_edge(4, 5)\n",
    "\n",
    "tree_count = g.count_trees()\n",
    "print(\"Number of trees in the forest:\", tree_count)"
   ]
  },
  {
   "cell_type": "code",
   "execution_count": null,
   "id": "2a712b18",
   "metadata": {},
   "outputs": [],
   "source": [
    "# 5.Detect Cycle in a Directed Graph"
   ]
  },
  {
   "cell_type": "code",
   "execution_count": 18,
   "id": "2b5f3514",
   "metadata": {},
   "outputs": [
    {
     "name": "stdout",
     "output_type": "stream",
     "text": [
      "True\n"
     ]
    }
   ],
   "source": [
    "def is_cycle(graph):\n",
    "\n",
    "  visited = set()\n",
    "  stack = []\n",
    "\n",
    "  for node in graph:\n",
    "    if node in visited:\n",
    "      return True\n",
    "\n",
    "    stack.append(node)\n",
    "    visited.add(node)\n",
    "\n",
    "    while stack:\n",
    "      current_node = stack.pop()\n",
    "\n",
    "      for neighbor in graph[current_node]:\n",
    "        if neighbor in visited:\n",
    "          return True\n",
    "\n",
    "        stack.append(neighbor)\n",
    "        visited.add(neighbor)\n",
    "\n",
    "  return False\n",
    "# Here is an example of how to use the code:\n",
    "graph = {\n",
    "  \"A\": [\"B\", \"C\"],\n",
    "  \"B\": [\"C\"],\n",
    "  \"C\": []\n",
    "}\n",
    "\n",
    "print(is_cycle(graph))"
   ]
  },
  {
   "cell_type": "code",
   "execution_count": null,
   "id": "93c60195",
   "metadata": {},
   "outputs": [],
   "source": []
  }
 ],
 "metadata": {
  "kernelspec": {
   "display_name": "Python 3 (ipykernel)",
   "language": "python",
   "name": "python3"
  },
  "language_info": {
   "codemirror_mode": {
    "name": "ipython",
    "version": 3
   },
   "file_extension": ".py",
   "mimetype": "text/x-python",
   "name": "python",
   "nbconvert_exporter": "python",
   "pygments_lexer": "ipython3",
   "version": "3.11.3"
  }
 },
 "nbformat": 4,
 "nbformat_minor": 5
}
