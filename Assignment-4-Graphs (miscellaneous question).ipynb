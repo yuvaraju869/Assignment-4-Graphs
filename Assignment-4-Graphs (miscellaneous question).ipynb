{
 "cells": [
  {
   "cell_type": "code",
   "execution_count": null,
   "id": "a5ac9814",
   "metadata": {},
   "outputs": [],
   "source": [
    "# Below question is a miscellaneous question\n",
    "# 1.Implement n-Queen’s Problem"
   ]
  },
  {
   "cell_type": "code",
   "execution_count": 1,
   "id": "5f03222e",
   "metadata": {},
   "outputs": [
    {
     "name": "stdout",
     "output_type": "stream",
     "text": [
      "Enter the value of N: 8\n",
      "Q . . . . . . .\n",
      ". . . . Q . . .\n",
      ". . . . . . . Q\n",
      ". . . . . Q . .\n",
      ". . Q . . . . .\n",
      ". . . . . . Q .\n",
      ". Q . . . . . .\n",
      ". . . Q . . . .\n"
     ]
    }
   ],
   "source": [
    "def is_safe(board, row, col, n):\n",
    "    # Check if there is a queen in the same column\n",
    "    for i in range(row):\n",
    "        if board[i][col] == 1:\n",
    "            return False\n",
    "\n",
    "    # Check upper left diagonal\n",
    "    for i, j in zip(range(row, -1, -1), range(col, -1, -1)):\n",
    "        if board[i][j] == 1:\n",
    "            return False\n",
    "\n",
    "    # Check upper right diagonal\n",
    "    for i, j in zip(range(row, -1, -1), range(col, n)):\n",
    "        if board[i][j] == 1:\n",
    "            return False\n",
    "\n",
    "    return True\n",
    "\n",
    "def solve_n_queens_util(board, row, n):\n",
    "    if row == n:\n",
    "        return True\n",
    "\n",
    "    for col in range(n):\n",
    "        if is_safe(board, row, col, n):\n",
    "            board[row][col] = 1\n",
    "\n",
    "            if solve_n_queens_util(board, row + 1, n):\n",
    "                return True\n",
    "\n",
    "            board[row][col] = 0\n",
    "\n",
    "    return False\n",
    "\n",
    "def solve_n_queens(n):\n",
    "    board = [[0 for _ in range(n)] for _ in range(n)]\n",
    "\n",
    "    if not solve_n_queens_util(board, 0, n):\n",
    "        print(\"No solution exists.\")\n",
    "        return\n",
    "\n",
    "    for row in board:\n",
    "        print(' '.join('Q' if cell == 1 else '.' for cell in row))\n",
    "\n",
    "n = int(input(\"Enter the value of N: \"))\n",
    "solve_n_queens(n)"
   ]
  },
  {
   "cell_type": "code",
   "execution_count": null,
   "id": "6264e6b6",
   "metadata": {},
   "outputs": [],
   "source": []
  }
 ],
 "metadata": {
  "kernelspec": {
   "display_name": "Python 3 (ipykernel)",
   "language": "python",
   "name": "python3"
  },
  "language_info": {
   "codemirror_mode": {
    "name": "ipython",
    "version": 3
   },
   "file_extension": ".py",
   "mimetype": "text/x-python",
   "name": "python",
   "nbconvert_exporter": "python",
   "pygments_lexer": "ipython3",
   "version": "3.11.3"
  }
 },
 "nbformat": 4,
 "nbformat_minor": 5
}
